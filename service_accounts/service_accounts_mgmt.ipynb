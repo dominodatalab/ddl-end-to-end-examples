{
 "cells": [
  {
   "cell_type": "code",
   "execution_count": null,
   "id": "7de67838-edce-4536-98f1-16c8bb4a1992",
   "metadata": {},
   "outputs": [],
   "source": [
    "import os\n",
    "import requests\n",
    "import json\n",
    "import sys\n",
    "import os\n",
    "\n",
    "\n",
    "##Create service accounts and tokens\n",
    "#nucleus_uri = os.environ['DOMINO_API_HOST']\n",
    "\n"
   ]
  },
  {
   "cell_type": "markdown",
   "id": "19109011-4701-4d8f-9f6a-b7ee80480279",
   "metadata": {},
   "source": [
    "# What this notebook does\n",
    "\n",
    "1. Create service account tokens (Run as an admin)\n",
    "2. Make the service account a collaborator on a project (for convinience I just use the current project)\n",
    "3. Attach a Github token to this service account profile\n",
    "4. Attach that token to the project code for this service account\n",
    "5. Run a trivial job using the service account token"
   ]
  },
  {
   "cell_type": "markdown",
   "id": "665de56f-035f-4a86-b74d-20cc6833b57c",
   "metadata": {},
   "source": [
    "# PRE-REQUSITES\n",
    "You need two user environment variables to run the final section of this notebook\n",
    "1. `SVC_ACCOUNT_TOKEN` - This is the service account token you generate\n",
    "2. `SVC_GITHUB_TOKEN` - This is the github token you use to attach to the SVC_Account and eventually map to the project for that service account.\n",
    "\n",
    "Step (2) is what allows you to run jobs using the SVC_ACCOUNT_TOKEN inside a Git-backed project"
   ]
  },
  {
   "cell_type": "markdown",
   "id": "8f2114ec-4eed-4d4a-8cb9-d33b05b7547f",
   "metadata": {},
   "source": [
    "## Why Service Account?\n",
    "\n",
    "Service Accounts are industry standard ways of creating identities which only interact with the platform programmatically. They are identities used to execute automation workflows.\n"
   ]
  },
  {
   "cell_type": "markdown",
   "id": "68304f76-9d7b-4aa0-9e32-c6002d79c0cc",
   "metadata": {},
   "source": [
    "## What functions does this notebook expose?\n",
    "\n",
    "1. List all service accounts - `get_all_service_accounts`\n",
    "2. Create a new service account - `create_sa(sa_name)`\n",
    "3. Get the Keycloak Id associated with each SA - `get_idp_id_by_sa()`\n",
    "4. Get the Domino (Mongo) Id associated with each SA - `get_id_by_sa()`\n",
    "5. Create a named token for a service account. A service account can have many named tokens -`create_token(idpid,token_name)`\n",
    "6. Invalidate token for a service account. A token that is invalidated cannot be reactivated - `invalidate_token(token_name):`\n",
    "7. Delete token for a service account. A token with the same name can be recreated after its deleted - `delete_token(token_name)`\n",
    "8. Add a service account as a project collaborator (collab_id==sa_mongo_id) - `add_sa_as_project_collaborator(project_id,collab_id,project_role)`\n",
    "9. Get git credential id's associated with all users (id==mongo_id)- `get_git_credentials(id)`\n",
    "10. Get repo_id associated with a git backed project - `get_project_repo_id(project_id)`\n",
    "11. Get git credentials associated with a give project - `get_git_credentials`\n",
    "12. Add a git credential for a collaborating project for a given sa `add_git_cred_for_project_for_sa`\n",
    "13. Delete git credentials for a collaborating project for a given sa `delete_git_credentials_for_sa`\n",
    "\n",
    "(11,12,13) in the real world would be run by a SA token after the SA is added as a collaborator for a give project\n",
    "\n",
    "\n"
   ]
  },
  {
   "cell_type": "code",
   "execution_count": null,
   "id": "cbc3ceb0-b430-41a1-99cf-5eee2d3ce001",
   "metadata": {},
   "outputs": [],
   "source": [
    "api_proxy = os.environ['DOMINO_API_PROXY']\n",
    "svc_accounts_endpoint= f'{api_proxy}/v4/serviceAccounts'\n",
    "## First step is fetch all service account\n",
    "def  get_all_service_accounts():\n",
    "    print(svc_accounts_endpoint)\n",
    "    resp = requests.get(svc_accounts_endpoint)\n",
    "    print(resp)\n",
    "    users=[]\n",
    "    if resp.status_code==200:\n",
    "        for u in resp.json():\n",
    "            users.append(u['username'])\n",
    "    return users\n",
    "\n",
    "def create_sa(sa_name:str):\n",
    "    data = {'username':sa_name,'email':f'{sa_name}@xyz.com'}\n",
    "    resp = requests.post(svc_accounts_endpoint,json=data,headers={'Content-Type':'application/json'})\n",
    "    print(f'Response for creating svc account {sa_name} is {resp.status_code}')\n",
    "    print(resp.json())\n",
    "\n",
    "#Now get Idp Id of all emails. This only returns active service accounts. If you have deactivated the SA\n",
    "#you can no longer see it. The only place to get that is from Mongo or Keycloak to reactivate\n",
    "#Activation of SA using names is not supported\n",
    "def get_idp_id_by_sa():\n",
    "    resp = requests.get(svc_accounts_endpoint)\n",
    "    print(resp.json())\n",
    "    idp_by_user={}\n",
    "    if resp.status_code==200:\n",
    "        for u in resp.json():\n",
    "            idp_by_user[u['username']]=u['idpId']\n",
    "    return idp_by_user\n",
    "def get_id_by_sa():\n",
    "    resp = requests.get(svc_accounts_endpoint)\n",
    "    print(resp.json())\n",
    "    idp_by_user={}\n",
    "    if resp.status_code==200:\n",
    "        for u in resp.json():\n",
    "            idp_by_user[u['username']]=u['id']\n",
    "    return idp_by_user\n",
    "# You cannot overwrite an existing or even an invalidated token. You have to delete it first\n",
    "def create_token(idpid,token_name):\n",
    "    token_endpoint= f'{svc_accounts_endpoint}/{idpid}/tokens'    \n",
    "    resp = requests.post(f\"{token_endpoint}\",json={\"name\":token_name},\n",
    "                         headers={'Content-Type':'application/json'})\n",
    "    print(resp.status_code)\n",
    "    return resp.json()\n",
    "\n",
    "def deactivate_sa(idpid):\n",
    "    token_endpoint= f'{svc_accounts_endpoint}/{idpid}/deactivate'        \n",
    "    resp = requests.post(token_endpoint,headers={'Content-Type':'application/json'})\n",
    "    print(f\"Status code {resp.status_code} - Deactivating user {user}\")\n",
    "def activate_sa(idpid):\n",
    "    token_endpoint= f'{svc_accounts_endpoint}/{idpid}/activate'        \n",
    "    resp = requests.post(token_endpoint,headers={'Content-Type':'application/json'})\n",
    "    print(f\"Status code {resp.status_code} - Activating user {user}\")\n",
    "\n",
    "#List all tokens\n",
    "def list_all_tokens(idpid):\n",
    "    token_endpoint= f'{svc_accounts_endpoint}/{idpid}/tokens'    \n",
    "    \n",
    "    resp = requests.get(token_endpoint,headers={'Content-Type':'application/json'})\n",
    "    \n",
    "    if resp.status_code==200:\n",
    "       out = resp.json()           \n",
    "       pretty_json = json.dumps(out, indent=4)\n",
    "       print(pretty_json)\n",
    "\n",
    "def invalidate_token(token_name):\n",
    "    print(f\"Invalidating token {token_name}?\")\n",
    "    token_endpoint= f'{svc_accounts_endpoint}/{idpid}/tokens/{token_name}'    \n",
    "    resp = requests.post(f\"{token_endpoint}/invalidate\",headers={'Content-Type':'application/json'})\n",
    "    print(resp.status_code)\n",
    "def delete_token(token_name):\n",
    "    print(f\"Deleting token {token_name}?\")\n",
    "    token_endpoint= f'{svc_accounts_endpoint}/{idpid}/tokens/{token_name}'    \n",
    "    resp = requests.delete(f\"{token_endpoint}\",headers={'Content-Type':'application/json'})\n",
    "    print(resp.status_code)\n",
    "    "
   ]
  },
  {
   "cell_type": "code",
   "execution_count": null,
   "id": "4ba9acc6-57ea-4a6e-b25b-041d42cb43ae",
   "metadata": {},
   "outputs": [],
   "source": [
    "print(get_all_service_accounts())"
   ]
  },
  {
   "cell_type": "code",
   "execution_count": null,
   "id": "c6ea8f99-01b8-4e8c-9eca-990f144c3381",
   "metadata": {},
   "outputs": [],
   "source": [
    "## Create Service Accounts if they don't exist\n",
    "svc_accounts=['svc-user-ds-u1','svc-admin-u2','svc-user-ds-u3']\n",
    "for sa_name in svc_accounts:\n",
    "    ## 200 \n",
    "    create_sa(sa_name)"
   ]
  },
  {
   "cell_type": "code",
   "execution_count": null,
   "id": "e980a0a2-c950-4f34-94bd-506a68b64208",
   "metadata": {},
   "outputs": [],
   "source": [
    "idp_by_user = get_idp_id_by_sa()"
   ]
  },
  {
   "cell_type": "code",
   "execution_count": null,
   "id": "50117bcf-4f51-4410-be6a-34b231492246",
   "metadata": {},
   "outputs": [],
   "source": [
    "## Create tokens for SA. Will return status code 200 if succeeded or 500 if it already exists\n",
    "results = []\n",
    "for user, idpid in idp_by_user.items():    \n",
    "    token_name = f\"{user}-token-app\"    \n",
    "    j = create_token(idpid,token_name)\n",
    "    results.append(j)\n",
    "\n",
    "with open(\"/tmp/tokens.json\", \"w\") as file:\n",
    "    json.dump(results, file, indent=2)"
   ]
  },
  {
   "cell_type": "code",
   "execution_count": null,
   "id": "25012251-399f-48a1-8e0f-99e3a53bcae8",
   "metadata": {},
   "outputs": [],
   "source": [
    "## Activate/Deactivate SVC Tokens. Do not use it currently because a token created for a deactivated/activated user\n",
    "## does not have `sub` field or claims making it unsuable\n",
    "'''\n",
    "for user, idpid in idp_by_user.items():\n",
    "    deactivate_sa(idpid)\n",
    "for user, idpid in idp_by_user.items():\n",
    "    activate_sa(idpid)\n",
    "'''"
   ]
  },
  {
   "cell_type": "code",
   "execution_count": null,
   "id": "747779e5-9219-4032-896e-c763ffa3d7fc",
   "metadata": {},
   "outputs": [],
   "source": []
  },
  {
   "cell_type": "code",
   "execution_count": null,
   "id": "97448c8d-5475-4002-afa9-742f5f8ac685",
   "metadata": {},
   "outputs": [],
   "source": [
    "for user, idpid in idp_by_user.items():\n",
    "    list_all_tokens(idpid)"
   ]
  },
  {
   "cell_type": "code",
   "execution_count": null,
   "id": "deae52fd-1621-43b3-9e44-6304ece5691f",
   "metadata": {},
   "outputs": [],
   "source": [
    "## Invalidate and delete tokens examples\n",
    "for user, idpid in idp_by_user.items():    \n",
    "    token_name = f\"{user}-token-app\"\n",
    "    # Invalidated tokens cannot be used or be revalidated\n",
    "    invalidate_token(token_name)\n",
    "\n",
    "for user, idpid in idp_by_user.items():    \n",
    "    token_name = f\"{user}-token-app\"\n",
    "    # You have to delete a token to recreate it\n",
    "    delete_token(token_name)"
   ]
  },
  {
   "cell_type": "code",
   "execution_count": null,
   "id": "884278e9-e3a1-4cfe-b483-05e80e353049",
   "metadata": {},
   "outputs": [],
   "source": [
    "#Now recreate them\n",
    "## Create tokens for SA. Will return status code 200 if succeeded or 500 if it already exists\n",
    "results = []\n",
    "for user, idpid in idp_by_user.items():    \n",
    "    token_name = f\"{user}-token-app\"    \n",
    "    j = create_token(idpid,token_name)\n",
    "    results.append(j)\n",
    "\n",
    "with open(\"/tmp/tokens.json\", \"w\") as file:\n",
    "    json.dump(results, file, indent=2)"
   ]
  },
  {
   "cell_type": "code",
   "execution_count": null,
   "id": "bfeda917-114a-4ce7-ab5d-8f5d63884413",
   "metadata": {},
   "outputs": [],
   "source": [
    "\n",
    "def add_sa_as_project_collaborator(project_id,collab_id,project_role):\n",
    "    project_endpoint= f'{api_proxy}/v4/projects/{project_id}/collaborators'\n",
    "    data = {\"collaboratorId\":collab_id,\n",
    "            \"projectRole\":project_role}\n",
    "    resp = requests.post(url=project_endpoint,json=data,headers={'Content-Type':'application/json'})\n",
    "    print(resp.status_code)\n",
    "    print(resp.json())\n",
    "    "
   ]
  },
  {
   "cell_type": "code",
   "execution_count": null,
   "id": "1c2c218d-2836-4844-ac33-c814d5440eca",
   "metadata": {},
   "outputs": [],
   "source": [
    "## As an admin add the SA to the project as a collaborator. This is needed to allow them to run jobs\n",
    "project_id = os.environ['DOMINO_PROJECT_ID']\n",
    "id_by_user = get_id_by_sa()\n",
    "for u,id in id_by_user.items():\n",
    "    add_sa_as_project_collaborator(project_id,id,\"Contributor\")\n"
   ]
  },
  {
   "cell_type": "code",
   "execution_count": null,
   "id": "d7a84353-7fbf-4cf9-8980-c91230f12aa5",
   "metadata": {},
   "outputs": [],
   "source": [
    "## Now we need to add a git credential to a service account"
   ]
  },
  {
   "cell_type": "code",
   "execution_count": null,
   "id": "2fbbf3ec-84c6-4dd6-b0ba-4f681d121271",
   "metadata": {},
   "outputs": [],
   "source": [
    "def get_git_credentials(id,svc_token):  \n",
    "    api_proxy = os.environ['DOMINO_API_PROXY']\n",
    "    headers = {'Content-Type':'application/json'}\n",
    "    \n",
    "    api_host = os.environ['DOMINO_API_HOST']\n",
    "    headers = {'Content-Type':'application/json', 'Authorization': f\"Bearer {svc_token}\"}\n",
    "\n",
    "    url = f\"{api_proxy}/v4/accounts/{id}/gitcredentials\"    \n",
    "    resp = requests.get(url,headers=headers)   \n",
    "    print(resp.status_code)\n",
    "    print(resp.text)\n",
    "    return resp.json()\n",
    "\n",
    "def delete_git_credentials_for_sa(id,credential_id,svc_token):    \n",
    "    #headers = {'Content-Type':'application/json'}\n",
    "    api_host = os.environ['DOMINO_API_HOST']\n",
    "    headers = {'Content-Type':'application/json', 'Authorization': f\"Bearer {svc_token}\"}\n",
    "    url = f\"{api_proxy}/v4/accounts/{id}/gitcredentials/{credential_id}\"    \n",
    "    resp = requests.delete(url,headers=headers)   \n",
    "    print(resp.status_code)\n",
    "    return resp.json()\n",
    "\n",
    "def add_git_credentials_to_sa(domino_id,git_token_name,git_token,svc_token):\n",
    "    api_host = os.environ['DOMINO_API_HOST']\n",
    "    headers = {'Content-Type':'application/json', 'Authorization': f\"Bearer {svc_token}\"}\n",
    "    #api_proxy = os.environ['DOMINO_API_PROXY']\n",
    "    #headers = {'Content-Type':'application/json'}\n",
    "\n",
    "    url = f\"{api_proxy}/v4/accounts/{domino_id}/gitcredentials\"\n",
    "    p = {\"name\":git_token_name,\"gitServiceProvider\":\"github\",\"accessType\":\"token\", \"token\":git_token,\"type\":\"TokenGitCredentialDto\"}\n",
    "    resp = requests.post(url,json=p,headers=headers)   \n",
    "    print(resp.status_code)\n",
    "    return resp.json()\n",
    "\n"
   ]
  },
  {
   "cell_type": "code",
   "execution_count": null,
   "id": "93f8f958-09e8-4cc1-8262-a20851ad2245",
   "metadata": {},
   "outputs": [],
   "source": [
    "def get_project_repo_id(project_id,svc_token):\n",
    "    api_host = os.environ['DOMINO_API_HOST']\n",
    "    headers = {'Content-Type':'application/json', 'Authorization': f\"Bearer {svc_token}\"}\n",
    "    \n",
    "    url = f\"{api_proxy}/v4/projects/{project_id}\"    \n",
    "    obj = requests.get(url,headers=headers).json()\n",
    "    print(obj)\n",
    "    git_repository_id = obj['mainRepository']['id']\n",
    "    return git_repository_id\n",
    "\n",
    "##Run this using the service account token. This is for illustration only\n",
    "def add_git_cred_for_project_for_sa(project_id,repo_id,cred_id,svc_token):\n",
    "    api_host = os.environ['DOMINO_API_HOST']\n",
    "    headers = {'Content-Type':'application/json', 'Authorization': f\"Bearer {svc_token}\"}\n",
    "\n",
    "    url = f\"{api_host}/v4/projects/{project_id}/repository/{repo_id}/credentialMapping\"\n",
    "    out = requests.put(url,json={\"credentialId\": cred_id},headers=headers)\n",
    "    print(out.status_code)\n",
    "    print(out.text)\n",
    "\n",
    "def get_git_cred_for_project_for_sa(project_id,repo_id,svc_token):\n",
    "    api_host = os.environ['DOMINO_API_HOST']\n",
    "    headers = {'Content-Type':'application/json', 'Authorization': f\"Bearer {svc_token}\"}\n",
    "    url = f\"{api_proxy}/v4/projects/{project_id}/repository/{repo_id}/credentialMapping\"\n",
    "    out = requests.get(url,headers=headers)\n",
    "    print(out.status_code)\n",
    "    print(out.text)\n",
    "\n",
    "def delete_git_cred_for_project_for_sa(project_id,repo_id,svc_token):\n",
    "    api_host = os.environ['DOMINO_API_HOST']\n",
    "    headers = {'Content-Type':'application/json', 'Authorization': f\"Bearer {svc_token}\"}\n",
    "\n",
    "    url = f\"{api_proxy}/v4/projects/{project_id}/repository/{repo_id}/credentialMapping\"\n",
    "    out = requests.delete(url,headers=headers)\n",
    "    print(out.status_code)\n",
    "    print(out.text)\n"
   ]
  },
  {
   "cell_type": "code",
   "execution_count": null,
   "id": "392dbf4f-9caf-4098-90b7-6f9e33f8bfab",
   "metadata": {},
   "outputs": [],
   "source": [
    "import base64\n",
    "import json\n",
    "\n",
    "def decode_jwt(token: str):\n",
    "    header_b64, payload_b64, signature_b64 = token.split('.')\n",
    "\n",
    "    # Base64URL decoding requires padding correction\n",
    "    def b64url_decode(b64_str):\n",
    "        padding = '=' * (-len(b64_str) % 4)\n",
    "        return base64.urlsafe_b64decode(b64_str + padding)\n",
    "\n",
    "    header = json.loads(b64url_decode(header_b64))\n",
    "    payload = json.loads(b64url_decode(payload_b64))\n",
    "    \n",
    "    return {\n",
    "        \"header\": header,\n",
    "        \"payload\": payload,\n",
    "        \"signature\": signature_b64  # raw, usually verified separately\n",
    "    }\n",
    "\n",
    "# Example usage\n",
    "#decoded = decode_jwt(svc_token)\n",
    "#print(json.dumps(decoded, indent=2))"
   ]
  },
  {
   "cell_type": "code",
   "execution_count": null,
   "id": "65903f15-525b-4ac1-bbc9-2030cf33e23b",
   "metadata": {},
   "outputs": [],
   "source": [
    "svc_token=os.environ['SVC_ACCOUNT_TOKEN']\n",
    "#svc_token=\"eyJhbGciOiJSUzI1NiIsInR5cCIgOiAiSldUIiwia2lkIiA6ICI2ekZfWlgzRlJiV0dnT215VHJKd0xmXzFVNUxUeENVT0t4bTNvSDhZNW5ZIn0.eyJleHAiOjE3Njc0NTc2OTgsImlhdCI6MTc1NzA4OTY5OCwianRpIjoiYzBhODc1ZmItMTlhZC00ZmVlLWI4NTgtZjU3MGQ3ZWVmYzUxIiwiaXNzIjoiaHR0cHM6Ly9tYXJjZG83NzM2NC5jcy5kb21pbm8udGVjaC9hdXRoL3JlYWxtcy9Eb21pbm9SZWFsbSIsImF1ZCI6WyJkb21pbm8tcGxhdGZvcm0iLCJhY2NvdW50Il0sInN1YiI6IjY4YjllZmJjZWYwZjJkMWYxZTk1ZmRlNCIsInR5cCI6IkJlYXJlciIsImF6cCI6ImRvbWluby1zZXJ2aWNlLWFjY291bnRzIiwic2lkIjoiNjdiZThhZDMtMDA1NS00YzM4LWFiYTUtMGViOTAyZGNiYWIwIiwicmVhbG1fYWNjZXNzIjp7InJvbGVzIjpbIm9mZmxpbmVfYWNjZXNzIiwidW1hX2F1dGhvcml6YXRpb24iLCJkZWZhdWx0LXJvbGVzLWRvbWlub3JlYWxtIl19LCJyZXNvdXJjZV9hY2Nlc3MiOnsiZG9taW5vLXNlcnZpY2UtYWNjb3VudHMiOnsicm9sZXMiOlsiZG9taW5vLXNlcnZpY2UtYWNjb3VudCJdfSwiYWNjb3VudCI6eyJyb2xlcyI6WyJtYW5hZ2UtYWNjb3VudCIsIm1hbmFnZS1hY2NvdW50LWxpbmtzIiwidmlldy1wcm9maWxlIl19fSwic2NvcGUiOiJvcGVuaWQgZG9taW5vLWp3dC1jbGFpbXMgZW1haWwgb2ZmbGluZV9hY2Nlc3MgcHJvZmlsZSIsImVtYWlsX3ZlcmlmaWVkIjpmYWxzZSwiaWRwX2lkIjoiZDA5YTk0OTctMGEwNy00YmI4LThkMzAtNDQ3N2MwZTZjNGU1IiwibmFtZSI6IlNBIHN2Yy11c2VyLWRzLXUzIiwicHJlZmVycmVkX3VzZXJuYW1lIjoic3ZjLXVzZXItZHMtdTMiLCJnaXZlbl9uYW1lIjoiU0EiLCJmYW1pbHlfbmFtZSI6InN2Yy11c2VyLWRzLXUzIiwiZW1haWwiOiJzdmMtdXNlci1kcy11M0B4eXouY29tIiwidXNlcl9ncm91cHMiOlsiL3JvbGVzL1ByYWN0aXRpb25lciJdfQ.vINxSkFFVOP8WbP4NEhtEPMHAHu8DTaSx1_GuXRSzSKDvUOYuX6oVQXNHJyXVKH_Wo098l-49sk3MdcQC_4JTe-yptl3WoBkP7s1Fo5AkavWGAAUFkuk2nL1zSef4V51pZ_Gu4aaVP2GuwYeSTiNWBLlYnQ7NUeKJADW4HgSTH-_9IcvH8vCt2H-X7NHmLWD-PpuFH92pEHIOrm-WtTtJke5YKRtf0Rc8CuM2CXdL7KLfRvfLCegZzpIANWEnly75-uNA3aOlonjD9WifXGIwldAh0DszLxZ2DDribHTO8ePIhtvXnX5HRdYh84vX76VwEpjsritvQz3QFEadaQuvA\"\n",
    "svc_jwt = decode_jwt(svc_token)\n",
    "#Sanity check. If your svc token cannot resolve this, it won't work\n",
    "svc_account_name = svc_jwt['payload']['name']\n",
    "idp_id = svc_jwt['payload']['idp_id']\n",
    "domino_id = svc_jwt['payload']['sub']\n",
    "print(f\"SVC_NAME={svc_account_name}, IDP_NAME={idp_id}, SUB={domino_id}\")"
   ]
  },
  {
   "cell_type": "code",
   "execution_count": null,
   "id": "5e44bed4-d74e-49d4-b96f-56c9a0c78278",
   "metadata": {},
   "outputs": [],
   "source": [
    "#Let is find the git credential associated with this service account\n",
    "git_token_name = \"test-git-token\"\n",
    "creds = get_git_credentials(domino_id,svc_token)\n",
    "print(creds)\n",
    "#Optionally delete them before re-adding them\n",
    "for c in creds:    \n",
    "    credential_id = c['id']\n",
    "    delete_git_credentials_for_sa(id,credential_id,svc_token)\n",
    "\n",
    "#Now let us add the git credentials\n",
    "print(add_git_credentials_to_sa(domino_id,git_token_name,os.environ['SVC_GITHUB_TOKEN'],svc_token))\n"
   ]
  },
  {
   "cell_type": "code",
   "execution_count": null,
   "id": "bdeb9253-1f14-4dcf-a50f-3d887a6c2b38",
   "metadata": {},
   "outputs": [],
   "source": [
    "#Also add it for yourself just to make sure you know it works for you. And this allow you to test this token from the UI before asking the service account to start a job\n",
    "my_token = requests.get(f\"{api_proxy}/access-token\").text \n",
    "my_domino_id = decode_jwt(my_token)['payload']['sub']\n",
    "print(add_git_credentials_to_sa(my_domino_id,git_token_name,os.environ['SVC_GITHUB_TOKEN'],my_token))"
   ]
  },
  {
   "cell_type": "code",
   "execution_count": null,
   "id": "4a246b2c-d872-405a-bfd6-fc909e5dee16",
   "metadata": {},
   "outputs": [],
   "source": [
    "my_token = decode_jwt(requests.get(f\"{api_proxy}/access-token\").text)\n",
    "my_domino_id = my_token['payload']['sub']\n",
    "print(my_domino_id)"
   ]
  },
  {
   "cell_type": "code",
   "execution_count": null,
   "id": "0ec53fd8-9cf7-4adc-b73c-2c8001f57d89",
   "metadata": {},
   "outputs": [],
   "source": [
    "project_id = os.environ['DOMINO_PROJECT_ID']\n",
    "repo_id = get_project_repo_id(project_id,svc_token)\n",
    "print(f\"Repo id {repo_id}\")"
   ]
  },
  {
   "cell_type": "code",
   "execution_count": null,
   "id": "9a457fff-29bd-4922-8cea-6a1b930f08f4",
   "metadata": {},
   "outputs": [],
   "source": [
    "##This should be run using each service account tokens \n",
    "#for u,id in id_by_user.items():\n",
    "\n",
    "\n",
    "creds = get_git_credentials(domino_id,svc_token)\n",
    "print(creds)\n",
    "credential_id = creds[0]['id']\n",
    "print(\"Get Git Cred mapping\")\n",
    "print(get_git_cred_for_project_for_sa(project_id,repo_id,svc_token))\n",
    "\n",
    "print(\"Delete Git Cred mapping\")\n",
    "delete_git_cred_for_project_for_sa(project_id,repo_id,svc_token)\n",
    "\n",
    "print(\"Get Git Cred mapping\")\n",
    "print(get_git_cred_for_project_for_sa(project_id,repo_id,svc_token))\n",
    "\n",
    "\n",
    "print(\"Add Git Cred mapping\")\n",
    "add_git_cred_for_project_for_sa(project_id,repo_id,credential_id,svc_token)"
   ]
  },
  {
   "cell_type": "code",
   "execution_count": null,
   "id": "ca156d0f-fcff-473d-824b-23b8fae7add3",
   "metadata": {},
   "outputs": [],
   "source": [
    "## And now you can use the service account token to run jobs for a git backed project"
   ]
  },
  {
   "cell_type": "code",
   "execution_count": null,
   "id": "9d82f1d0-6ac5-44ef-98e1-76db5ccc5665",
   "metadata": {},
   "outputs": [],
   "source": [
    "import os\n",
    "import requests\n",
    "\n",
    "def get_hw_tier_id(name: str):\n",
    "    api_proxy = os.environ['DOMINO_API_PROXY']\n",
    "    url = f\"{api_proxy}/v4/hardwareTier\"\n",
    "    results = requests.get(url)\n",
    "    hw_tiers = results.json()['hardwareTiers']\n",
    "    for h in hw_tiers:\n",
    "        if h['name']==name:\n",
    "            return h\n",
    "\n",
    "def get_environment_id(name: str):\n",
    "    api_proxy = os.environ['DOMINO_API_PROXY']\n",
    "    url = f\"{api_proxy}/v4/environments/self\"\n",
    "    results = requests.get(url)\n",
    "    envs = results.json()\n",
    "    for e in envs:\n",
    "        if e['name']==name:\n",
    "            return e\n"
   ]
  },
  {
   "cell_type": "code",
   "execution_count": null,
   "id": "e3709329-b7c4-418d-9096-f4b2dad07ee6",
   "metadata": {},
   "outputs": [],
   "source": [
    "\n",
    "from domino import Domino\n",
    "import os\n",
    "import requests\n",
    "\n",
    "svc_token=os.environ['SVC_ACCOUNT_TOKEN']\n",
    "domino = Domino(\"wadkars/ddl-end-to-end-demo\",auth_token=svc_token)\n",
    "compute_env_id = get_environment_id('Domino Standard Environment Py3.10 R4.4')['id']\n",
    "title = f\"Test Job for SVC Account\"\n",
    "j = domino.job_start(title=title,command=\"/tmp/ls\",\n",
    "                 hardware_tier_name=\"Small\",environment_id=compute_env_id)\n",
    "print(j)"
   ]
  },
  {
   "cell_type": "code",
   "execution_count": null,
   "id": "44ac8e45-aaf1-4be5-9be8-9671cb5b33e9",
   "metadata": {},
   "outputs": [],
   "source": []
  }
 ],
 "metadata": {
  "kernelspec": {
   "display_name": "Python 3 (ipykernel)",
   "language": "python",
   "name": "python3"
  },
  "language_info": {
   "codemirror_mode": {
    "name": "ipython",
    "version": 3
   },
   "file_extension": ".py",
   "mimetype": "text/x-python",
   "name": "python",
   "nbconvert_exporter": "python",
   "pygments_lexer": "ipython3",
   "version": "3.10.14"
  }
 },
 "nbformat": 4,
 "nbformat_minor": 5
}
