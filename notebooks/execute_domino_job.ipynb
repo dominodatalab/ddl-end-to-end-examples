{
 "cells": [
  {
   "cell_type": "code",
   "execution_count": null,
   "id": "e8cdf3b7-0caf-498b-a383-6432e6b0c932",
   "metadata": {},
   "outputs": [],
   "source": [
    "import sys\n",
    "sys.path.append(\"/mnt/code\")"
   ]
  },
  {
   "cell_type": "code",
   "execution_count": null,
   "id": "9643d8fd-750a-4a82-8728-c2bd241bb0f5",
   "metadata": {},
   "outputs": [],
   "source": [
    "import os\n",
    "import requests"
   ]
  },
  {
   "cell_type": "code",
   "execution_count": null,
   "id": "fe328509-62e4-4a46-839c-8a50db8115f7",
   "metadata": {},
   "outputs": [],
   "source": [
    "from domino import Domino\n",
    "def get_hw_tier_id(name: str):\n",
    "    api_proxy = os.environ['DOMINO_API_PROXY']\n",
    "    url = f\"{api_proxy}/v4/hardwareTier\"\n",
    "    results = requests.get(url)\n",
    "    hw_tiers = results.json()['hardwareTiers']\n",
    "    for h in hw_tiers:\n",
    "        if h['name']==name:\n",
    "            return h\n",
    "\n",
    "def get_environment_id(name: str):\n",
    "    api_proxy = os.environ['DOMINO_API_PROXY']\n",
    "    url = f\"{api_proxy}/v4/environments/self\"\n",
    "    results = requests.get(url)\n",
    "    envs = results.json()\n",
    "    for e in envs:\n",
    "        if e['name']==name:\n",
    "            return e\n"
   ]
  },
  {
   "cell_type": "code",
   "execution_count": null,
   "id": "cd0f98f6-aa4f-4369-bfbb-9a10517e6c7b",
   "metadata": {},
   "outputs": [],
   "source": [
    "domino = Domino(\"wadkars/ddl-end-to-end-demo\")"
   ]
  },
  {
   "cell_type": "code",
   "execution_count": null,
   "id": "71b718ae-ca54-42f6-87e2-186c9044ef39",
   "metadata": {},
   "outputs": [],
   "source": [
    "compute_hw_tier_id = get_hw_tier_id(name=\"Medium\")['id']\n",
    "head_hw_tier_id = get_hw_tier_id(name=\"Medium\")['id']\n",
    "worker_hw_tier_id = get_hw_tier_id(name=\"Medium\")['id']\n",
    "\n",
    "#command=\"python -m ray_examples.xgboost --config-dir /mnt/code/conf env=dev\"\n",
    "command=\"/mnt/code/scripts/ray_xgboost.sh\"\n",
    "hardware_tier_name=\"Medium\"\n",
    "cluster_env_id = get_environment_id('SW-Domino 6.0 Ray Cluster Env')['id']\n",
    "compute_env_id = get_environment_id('SW-DSE6+Ray Env')['id']\n",
    "\n",
    "title = f\"Ray XGBoost {os.environ['DOMINO_STARTING_USERNAME']}\""
   ]
  },
  {
   "cell_type": "code",
   "execution_count": null,
   "id": "499f3dd5-c356-47ff-a06f-73d2063059e9",
   "metadata": {},
   "outputs": [],
   "source": [
    "compute_cluster = {\n",
    "    \"clusterType\": \"Ray\",\n",
    "    \"computeEnvironmentId\": cluster_env_id,\n",
    "    \"computeEnvironmentRevisionSpec\": \"ActiveRevision\",    \n",
    "    \"masterHardwareTierId\": head_hw_tier_id,\n",
    "    \"workerCount\": 4,\n",
    "    \"workerHardwareTierId\": worker_hw_tier_id,\n",
    "    #\"maxWorkerCount\": 4\n",
    "}"
   ]
  },
  {
   "cell_type": "code",
   "execution_count": null,
   "id": "e615c5a0-7441-4433-8a2a-24535674108d",
   "metadata": {},
   "outputs": [],
   "source": [
    "domino.job_start_blocking(poll_freq=5,max_poll_time=6000,title=title,command=command,\n",
    "                 hardware_tier_name=\"Medium\",environment_id=compute_env_id,\n",
    "                 compute_cluster_properties=compute_cluster)"
   ]
  },
  {
   "cell_type": "code",
   "execution_count": null,
   "id": "4c6c8962-0f1c-4c61-9601-d9d2f5368212",
   "metadata": {},
   "outputs": [],
   "source": []
  }
 ],
 "metadata": {
  "kernelspec": {
   "display_name": "Python 3 (ipykernel)",
   "language": "python",
   "name": "python3"
  },
  "language_info": {
   "codemirror_mode": {
    "name": "ipython",
    "version": 3
   },
   "file_extension": ".py",
   "mimetype": "text/x-python",
   "name": "python",
   "nbconvert_exporter": "python",
   "pygments_lexer": "ipython3",
   "version": "3.10.14"
  }
 },
 "nbformat": 4,
 "nbformat_minor": 5
}
