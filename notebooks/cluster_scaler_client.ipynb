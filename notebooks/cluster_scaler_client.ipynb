{
 "cells": [
  {
   "cell_type": "code",
   "execution_count": null,
   "id": "aa0b7739-6f23-45cf-abe5-81a8c7d6658c",
   "metadata": {},
   "outputs": [],
   "source": [
    "import sys\n",
    "sys.path.append(\"/mnt/code\")"
   ]
  },
  {
   "cell_type": "code",
   "execution_count": null,
   "id": "b50fcc65-7e3d-458f-a01c-0135b21ac2cb",
   "metadata": {},
   "outputs": [],
   "source": [
    "from utils import ddl_cluster_scaling_client\n",
    "import json\n"
   ]
  },
  {
   "cell_type": "code",
   "execution_count": null,
   "id": "de242485-c265-4d63-afbe-79fba181ebfe",
   "metadata": {},
   "outputs": [],
   "source": [
    "result = ddl_cluster_scaling_client.get_auth_headers()\n",
    "print(result['Authorization'][0:20])"
   ]
  },
  {
   "cell_type": "code",
   "execution_count": null,
   "id": "626dc69d-bf2c-40bf-bf80-0ce17a5ab6dd",
   "metadata": {},
   "outputs": [],
   "source": [
    "j = ddl_cluster_scaling_client.get_cluster_status()['status']\n",
    "print('Cluster status')\n",
    "print(json.dumps(j, indent=2, sort_keys=True, ensure_ascii=False))\n",
    "j = ddl_cluster_scaling_client.get_cluster_status()['spec']['autoscaling']\n",
    "print('Cluster Autoscaling status')\n",
    "print(json.dumps(j, indent=2, sort_keys=True, ensure_ascii=False))\n",
    "j = ddl_cluster_scaling_client.get_cluster_status()['spec']['worker']['replicas']\n",
    "print('Cluster worker replicas')\n",
    "print(j)"
   ]
  },
  {
   "cell_type": "code",
   "execution_count": null,
   "id": "36746bee-b49a-4c52-a901-5f027fe2264c",
   "metadata": {},
   "outputs": [],
   "source": [
    "j = ddl_cluster_scaling_client.scale_cluster(cluster_kind=\"rayclusters\",worker_hw_tier_name=\"Medium\", replicas=3)\n",
    "json.dumps(j, indent=2, sort_keys=True, ensure_ascii=False)\n",
    "ddl_cluster_scaling_client.wait_until_scaling_complete(cluster_kind=\"rayclusters\")"
   ]
  },
  {
   "cell_type": "code",
   "execution_count": null,
   "id": "a7f603bb-312a-4063-a2c7-899b79a1d3ad",
   "metadata": {},
   "outputs": [],
   "source": [
    "j = ddl_cluster_scaling_client.restart_head_node(cluster_kind=\"rayclusters\")\n",
    "restarts_at = j['started_at']\n",
    "print(restarts_at)"
   ]
  },
  {
   "cell_type": "code",
   "execution_count": null,
   "id": "85a17fed-2aae-4939-85f8-0b7d44cf77c4",
   "metadata": {},
   "outputs": [],
   "source": [
    "ddl_cluster_scaling_client.restart_head_node_status(cluster_kind=\"rayclusters\",restarted_since=restarts_at)"
   ]
  },
  {
   "cell_type": "code",
   "execution_count": null,
   "id": "ac1a8bb4-2fef-4058-a1e8-b00c77f65fa2",
   "metadata": {},
   "outputs": [],
   "source": [
    "ddl_cluster_scaling_client.wait_until_node_restarted(cluster_kind=\"rayclusters\",restarted_since=restarts_at)"
   ]
  },
  {
   "cell_type": "code",
   "execution_count": null,
   "id": "549cd30e-7397-4d74-aa4a-d9e10cd26425",
   "metadata": {},
   "outputs": [],
   "source": [
    "j = ddl_cluster_scaling_client.scale_cluster(cluster_kind=\"rayclusters\",worker_hw_tier_name=\"Small\", replicas=1)\n",
    "json.dumps(j, indent=2, sort_keys=True, ensure_ascii=False)\n",
    "ddl_cluster_scaling_client.wait_until_scaling_complete(cluster_kind=\"rayclusters\")"
   ]
  },
  {
   "cell_type": "code",
   "execution_count": null,
   "id": "5d94d772-41f4-4ca8-a4d6-2ecf7d5c54bc",
   "metadata": {},
   "outputs": [],
   "source": [
    "ddl_cluster_scaling_client.restart_head_node_status(cluster_kind=\"rayclusters\",restarted_since=restarts_at)\n",
    "ddl_cluster_scaling_client.wait_until_node_restarted(cluster_kind=\"rayclusters\",restarted_since=restarts_at)"
   ]
  },
  {
   "cell_type": "code",
   "execution_count": null,
   "id": "917f43c3-b773-4295-94ac-3d6bb9447de2",
   "metadata": {},
   "outputs": [],
   "source": []
  }
 ],
 "metadata": {
  "kernelspec": {
   "display_name": "Python 3 (ipykernel)",
   "language": "python",
   "name": "python3"
  },
  "language_info": {
   "codemirror_mode": {
    "name": "ipython",
    "version": 3
   },
   "file_extension": ".py",
   "mimetype": "text/x-python",
   "name": "python",
   "nbconvert_exporter": "python",
   "pygments_lexer": "ipython3",
   "version": "3.10.14"
  }
 },
 "nbformat": 4,
 "nbformat_minor": 5
}
